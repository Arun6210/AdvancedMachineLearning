{
 "cells": [
  {
   "cell_type": "markdown",
   "id": "5d850f62",
   "metadata": {},
   "source": [
    "# AML Assignment - 4"
   ]
  },
  {
   "cell_type": "markdown",
   "id": "dcac143a",
   "metadata": {},
   "source": [
    "# Arun Kumar Kudurumalla"
   ]
  },
  {
   "cell_type": "markdown",
   "id": "e7d75029",
   "metadata": {},
   "source": [
    "## Advanced Machine Learning (Text and Sequence Data)"
   ]
  },
  {
   "cell_type": "code",
   "execution_count": 1,
   "id": "b09a9d9b",
   "metadata": {},
   "outputs": [],
   "source": [
    "# Import necessary libraries\n",
    "from keras.datasets import imdb\n",
    "from keras.preprocessing import sequence\n",
    "from keras.models import Sequential\n",
    "from keras.layers import Embedding, Flatten, Dense\n",
    "import matplotlib.pyplot as plt\n",
    "import numpy as np"
   ]
  },
  {
   "cell_type": "code",
   "execution_count": 2,
   "id": "aeb9bd2b",
   "metadata": {},
   "outputs": [],
   "source": [
    "# Set parameters\n",
    "max_words = 10000\n",
    "maxlen = 150\n",
    "training_samples = 100\n",
    "validation_samples = 10000"
   ]
  },
  {
   "cell_type": "code",
   "execution_count": 3,
   "id": "5562a59a",
   "metadata": {},
   "outputs": [],
   "source": [
    "# Load IMDB dataset\n",
    "(x_train, y_train), (x_val, y_val) = imdb.load_data(num_words=max_words)"
   ]
  },
  {
   "cell_type": "code",
   "execution_count": 4,
   "id": "456ff959",
   "metadata": {},
   "outputs": [],
   "source": [
    "# Pad sequences\n",
    "x_train = sequence.pad_sequences(x_train, maxlen=maxlen)\n",
    "x_val = sequence.pad_sequences(x_val, maxlen=maxlen)"
   ]
  },
  {
   "cell_type": "code",
   "execution_count": 5,
   "id": "47805c8f",
   "metadata": {},
   "outputs": [],
   "source": [
    "# Take a subset of training and validation data\n",
    "x_train = x_train[:training_samples]\n",
    "y_train = y_train[:training_samples]\n",
    "\n",
    "x_val = x_val[:validation_samples]\n",
    "y_val = y_val[:validation_samples]"
   ]
  },
  {
   "cell_type": "code",
   "execution_count": 6,
   "id": "97168571",
   "metadata": {},
   "outputs": [],
   "source": [
    "# Define the model with an Embedding Layer\n",
    "embedding_dim = 100\n",
    "\n",
    "model_embedding = Sequential()\n",
    "model_embedding.add(Embedding(max_words, embedding_dim, input_length=maxlen))\n",
    "model_embedding.add(Flatten())\n",
    "model_embedding.add(Dense(1, activation='sigmoid'))\n"
   ]
  },
  {
   "cell_type": "code",
   "execution_count": 7,
   "id": "81b060d9",
   "metadata": {},
   "outputs": [
    {
     "name": "stdout",
     "output_type": "stream",
     "text": [
      "Model: \"sequential\"\n",
      "_________________________________________________________________\n",
      " Layer (type)                Output Shape              Param #   \n",
      "=================================================================\n",
      " embedding (Embedding)       (None, 150, 100)          1000000   \n",
      "                                                                 \n",
      " flatten (Flatten)           (None, 15000)             0         \n",
      "                                                                 \n",
      " dense (Dense)               (None, 1)                 15001     \n",
      "                                                                 \n",
      "=================================================================\n",
      "Total params: 1015001 (3.87 MB)\n",
      "Trainable params: 1015001 (3.87 MB)\n",
      "Non-trainable params: 0 (0.00 Byte)\n",
      "_________________________________________________________________\n"
     ]
    }
   ],
   "source": [
    "# Compile the model\n",
    "model_embedding.compile(optimizer='rmsprop', loss='binary_crossentropy', metrics=['acc'])\n",
    "model_embedding.summary()"
   ]
  },
  {
   "cell_type": "code",
   "execution_count": 8,
   "id": "5650f527",
   "metadata": {},
   "outputs": [
    {
     "name": "stdout",
     "output_type": "stream",
     "text": [
      "Epoch 1/10\n",
      "4/4 [==============================] - 1s 318ms/step - loss: 0.6929 - acc: 0.4700 - val_loss: 0.6930 - val_acc: 0.5067\n",
      "Epoch 2/10\n",
      "4/4 [==============================] - 1s 268ms/step - loss: 0.5881 - acc: 0.9900 - val_loss: 0.6927 - val_acc: 0.5145\n",
      "Epoch 3/10\n",
      "4/4 [==============================] - 1s 258ms/step - loss: 0.5223 - acc: 0.9900 - val_loss: 0.6934 - val_acc: 0.5184\n",
      "Epoch 4/10\n",
      "4/4 [==============================] - 1s 246ms/step - loss: 0.4659 - acc: 0.9900 - val_loss: 0.6938 - val_acc: 0.5166\n",
      "Epoch 5/10\n",
      "4/4 [==============================] - 1s 257ms/step - loss: 0.4132 - acc: 0.9900 - val_loss: 0.6953 - val_acc: 0.5159\n",
      "Epoch 6/10\n",
      "4/4 [==============================] - 1s 252ms/step - loss: 0.3673 - acc: 0.9900 - val_loss: 0.6964 - val_acc: 0.5158\n",
      "Epoch 7/10\n",
      "4/4 [==============================] - 1s 260ms/step - loss: 0.3211 - acc: 0.9900 - val_loss: 0.6972 - val_acc: 0.5159\n",
      "Epoch 8/10\n",
      "4/4 [==============================] - 1s 253ms/step - loss: 0.2810 - acc: 1.0000 - val_loss: 0.7001 - val_acc: 0.5167\n",
      "Epoch 9/10\n",
      "4/4 [==============================] - 1s 273ms/step - loss: 0.2442 - acc: 1.0000 - val_loss: 0.7008 - val_acc: 0.5150\n",
      "Epoch 10/10\n",
      "4/4 [==============================] - 1s 258ms/step - loss: 0.2101 - acc: 1.0000 - val_loss: 0.7032 - val_acc: 0.5166\n"
     ]
    }
   ],
   "source": [
    "# Train the model with the Embedding Layer\n",
    "history_embedding = model_embedding.fit(x_train, y_train, epochs=10, batch_size=32, validation_data=(x_val, y_val))"
   ]
  },
  {
   "cell_type": "code",
   "execution_count": 9,
   "id": "82db227d",
   "metadata": {},
   "outputs": [],
   "source": [
    "# Plot accuracy\n",
    "acc_embedding = history_embedding.history['acc']\n",
    "val_acc_embedding = history_embedding.history['val_acc']\n",
    "epochs_embedding = range(1, len(acc_embedding) + 1)"
   ]
  },
  {
   "cell_type": "code",
   "execution_count": 10,
   "id": "f02ced35",
   "metadata": {},
   "outputs": [
    {
     "data": {
      "image/png": "[encoded data removed]",
      "text/plain": [
       "<Figure size 640x480 with 1 Axes>"
      ]
     },
     "metadata": {},
     "output_type": "display_data"
    }
   ],
   "source": [
    "plt.plot(epochs_embedding, acc_embedding, 'bo', label='Training acc (Embedding)')\n",
    "plt.plot(epochs_embedding, val_acc_embedding, 'b', label='Validation acc (Embedding)')\n",
    "plt.title('Training and validation accuracy with Embedding Layer')\n",
    "plt.legend()\n",
    "plt.show()"
   ]
  },
  {
   "cell_type": "code",
   "execution_count": 11,
   "id": "7a064870",
   "metadata": {},
   "outputs": [],
   "source": [
    "# Load the word index from the IMDB dataset\n",
    "word_index = imdb.get_word_index()"
   ]
  },
  {
   "cell_type": "code",
   "execution_count": 12,
   "id": "76b056dc",
   "metadata": {},
   "outputs": [],
   "source": [
    "# Define the range of training samples to experiment with\n",
    "training_samples_range = [10, 50, 100, 200, 500]"
   ]
  },
  {
   "cell_type": "code",
   "execution_count": 13,
   "id": "30e31fc8",
   "metadata": {},
   "outputs": [],
   "source": [
    "# Specify the path to your GloVe file\n",
    "glove_path = \"C:/Users/Arun/Downloads/glove.6B/glove.6B.100d.txt\""
   ]
  },
  {
   "cell_type": "code",
   "execution_count": 14,
   "id": "d43cbd53",
   "metadata": {},
   "outputs": [],
   "source": [
    "# Load GloVe embeddings\n",
    "embeddings_index = {}\n",
    "with open(glove_path, encoding='utf-8') as f:\n",
    "    for line in f:\n",
    "        values = line.split()\n",
    "        word = values[0]\n",
    "        coefs = np.asarray(values[1:], dtype='float32')\n",
    "        embeddings_index[word] = coefs"
   ]
  },
  {
   "cell_type": "code",
   "execution_count": 15,
   "id": "87d4be97",
   "metadata": {},
   "outputs": [],
   "source": [
    "# Define the embedding dimension\n",
    "embedding_dim = 100"
   ]
  },
  {
   "cell_type": "code",
   "execution_count": 16,
   "id": "80ead512",
   "metadata": {},
   "outputs": [
    {
     "name": "stdout",
     "output_type": "stream",
     "text": [
      "Epoch 1/10\n",
      "1/1 [==============================] - 1s 1s/step - loss: 0.6903 - acc: 0.5000 - val_loss: 0.6964 - val_acc: 0.4970\n",
      "Epoch 2/10\n",
      "1/1 [==============================] - 1s 831ms/step - loss: 0.4824 - acc: 1.0000 - val_loss: 0.6995 - val_acc: 0.4974\n",
      "Epoch 3/10\n",
      "1/1 [==============================] - 1s 802ms/step - loss: 0.3688 - acc: 1.0000 - val_loss: 0.7030 - val_acc: 0.4954\n",
      "Epoch 4/10\n",
      "1/1 [==============================] - 1s 770ms/step - loss: 0.2903 - acc: 1.0000 - val_loss: 0.7069 - val_acc: 0.4959\n",
      "Epoch 5/10\n",
      "1/1 [==============================] - 1s 782ms/step - loss: 0.2326 - acc: 1.0000 - val_loss: 0.7109 - val_acc: 0.4970\n",
      "Epoch 6/10\n",
      "1/1 [==============================] - 1s 782ms/step - loss: 0.1891 - acc: 1.0000 - val_loss: 0.7151 - val_acc: 0.4990\n",
      "Epoch 7/10\n",
      "1/1 [==============================] - 1s 826ms/step - loss: 0.1557 - acc: 1.0000 - val_loss: 0.7192 - val_acc: 0.4981\n",
      "Epoch 8/10\n",
      "1/1 [==============================] - 1s 726ms/step - loss: 0.1297 - acc: 1.0000 - val_loss: 0.7234 - val_acc: 0.4989\n",
      "Epoch 9/10\n",
      "1/1 [==============================] - 1s 841ms/step - loss: 0.1093 - acc: 1.0000 - val_loss: 0.7275 - val_acc: 0.4988\n",
      "Epoch 10/10\n",
      "1/1 [==============================] - 1s 774ms/step - loss: 0.0930 - acc: 1.0000 - val_loss: 0.7315 - val_acc: 0.4982\n",
      "Epoch 1/10\n",
      "1/1 [==============================] - 1s 1s/step - loss: 0.7161 - acc: 0.5000 - val_loss: 1.3504 - val_acc: 0.5027\n",
      "Epoch 2/10\n",
      "1/1 [==============================] - 1s 808ms/step - loss: 0.0648 - acc: 1.0000 - val_loss: 1.0959 - val_acc: 0.4934\n",
      "Epoch 3/10\n",
      "1/1 [==============================] - 1s 817ms/step - loss: 0.0769 - acc: 1.0000 - val_loss: 1.3281 - val_acc: 0.5027\n",
      "Epoch 4/10\n",
      "1/1 [==============================] - 1s 816ms/step - loss: 0.0161 - acc: 1.0000 - val_loss: 0.9634 - val_acc: 0.5053\n",
      "Epoch 5/10\n",
      "1/1 [==============================] - 1s 819ms/step - loss: 0.0059 - acc: 1.0000 - val_loss: 0.9437 - val_acc: 0.5052\n",
      "Epoch 6/10\n",
      "1/1 [==============================] - 1s 816ms/step - loss: 0.0051 - acc: 1.0000 - val_loss: 0.9300 - val_acc: 0.5045\n",
      "Epoch 7/10\n",
      "1/1 [==============================] - 1s 810ms/step - loss: 0.0046 - acc: 1.0000 - val_loss: 0.9203 - val_acc: 0.5046\n",
      "Epoch 8/10\n",
      "1/1 [==============================] - 1s 882ms/step - loss: 0.0041 - acc: 1.0000 - val_loss: 0.9133 - val_acc: 0.5044\n",
      "Epoch 9/10\n",
      "1/1 [==============================] - 1s 877ms/step - loss: 0.0038 - acc: 1.0000 - val_loss: 0.9084 - val_acc: 0.5046\n",
      "Epoch 10/10\n",
      "1/1 [==============================] - 1s 779ms/step - loss: 0.0035 - acc: 1.0000 - val_loss: 0.9050 - val_acc: 0.5049\n",
      "\n",
      "Results for 10 training samples:\n",
      "Embedding Layer:\n",
      "Validation Accuracy: 0.498199999332428\n",
      "\n",
      "Pretrained Word Embedding:\n",
      "Validation Accuracy: 0.5048999786376953\n",
      "Better Performing Model: Pretrained Word Embedding\n",
      "Epoch 1/10\n",
      "2/2 [==============================] - 2s 1s/step - loss: 0.6922 - acc: 0.5400 - val_loss: 0.6966 - val_acc: 0.5034\n",
      "Epoch 2/10\n",
      "2/2 [==============================] - 1s 867ms/step - loss: 0.5731 - acc: 0.9200 - val_loss: 0.6985 - val_acc: 0.5040\n",
      "Epoch 3/10\n",
      "2/2 [==============================] - 1s 814ms/step - loss: 0.4969 - acc: 0.9600 - val_loss: 0.6994 - val_acc: 0.5053\n",
      "Epoch 4/10\n",
      "2/2 [==============================] - 1s 759ms/step - loss: 0.4330 - acc: 0.9800 - val_loss: 0.7023 - val_acc: 0.5072\n",
      "Epoch 5/10\n",
      "2/2 [==============================] - 1s 825ms/step - loss: 0.3792 - acc: 0.9800 - val_loss: 0.7044 - val_acc: 0.5069\n",
      "Epoch 6/10\n",
      "2/2 [==============================] - 1s 754ms/step - loss: 0.3307 - acc: 0.9800 - val_loss: 0.7058 - val_acc: 0.5063\n",
      "Epoch 7/10\n",
      "2/2 [==============================] - 1s 800ms/step - loss: 0.2892 - acc: 0.9800 - val_loss: 0.7099 - val_acc: 0.5061\n",
      "Epoch 8/10\n",
      "2/2 [==============================] - 1s 740ms/step - loss: 0.2510 - acc: 0.9800 - val_loss: 0.7117 - val_acc: 0.5062\n",
      "Epoch 9/10\n",
      "2/2 [==============================] - 1s 734ms/step - loss: 0.2185 - acc: 0.9800 - val_loss: 0.7114 - val_acc: 0.5073\n",
      "Epoch 10/10\n",
      "2/2 [==============================] - 1s 749ms/step - loss: 0.1897 - acc: 1.0000 - val_loss: 0.7110 - val_acc: 0.5074\n",
      "Epoch 1/10\n",
      "2/2 [==============================] - 1s 901ms/step - loss: 2.1518 - acc: 0.4800 - val_loss: 0.7598 - val_acc: 0.5010\n",
      "Epoch 2/10\n",
      "2/2 [==============================] - 1s 813ms/step - loss: 0.4849 - acc: 0.7400 - val_loss: 1.3012 - val_acc: 0.4976\n",
      "Epoch 3/10\n",
      "2/2 [==============================] - 1s 823ms/step - loss: 0.5019 - acc: 0.6800 - val_loss: 0.7971 - val_acc: 0.5024\n",
      "Epoch 4/10\n",
      "2/2 [==============================] - 1s 825ms/step - loss: 0.0992 - acc: 1.0000 - val_loss: 0.7653 - val_acc: 0.4975\n",
      "Epoch 5/10\n",
      "2/2 [==============================] - 1s 824ms/step - loss: 0.0737 - acc: 1.0000 - val_loss: 0.7955 - val_acc: 0.5014\n",
      "Epoch 6/10\n",
      "2/2 [==============================] - 1s 825ms/step - loss: 0.0607 - acc: 1.0000 - val_loss: 0.7549 - val_acc: 0.4966\n",
      "Epoch 7/10\n",
      "2/2 [==============================] - 1s 811ms/step - loss: 0.0523 - acc: 1.0000 - val_loss: 0.7624 - val_acc: 0.4989\n",
      "Epoch 8/10\n",
      "2/2 [==============================] - 1s 818ms/step - loss: 0.0440 - acc: 1.0000 - val_loss: 0.7952 - val_acc: 0.5011\n",
      "Epoch 9/10\n",
      "2/2 [==============================] - 1s 820ms/step - loss: 0.0384 - acc: 1.0000 - val_loss: 0.7746 - val_acc: 0.4984\n",
      "Epoch 10/10\n",
      "2/2 [==============================] - 1s 818ms/step - loss: 0.0331 - acc: 1.0000 - val_loss: 0.8104 - val_acc: 0.5015\n",
      "\n",
      "Results for 50 training samples:\n",
      "Embedding Layer:\n",
      "Validation Accuracy: 0.5073999762535095\n",
      "\n",
      "Pretrained Word Embedding:\n",
      "Validation Accuracy: 0.5015000104904175\n",
      "Better Performing Model: Embedding Layer\n",
      "Epoch 1/10\n",
      "4/4 [==============================] - 1s 333ms/step - loss: 0.6972 - acc: 0.4400 - val_loss: 0.6922 - val_acc: 0.5136\n",
      "Epoch 2/10\n",
      "4/4 [==============================] - 1s 252ms/step - loss: 0.5896 - acc: 0.9800 - val_loss: 0.6921 - val_acc: 0.5152\n",
      "Epoch 3/10\n",
      "4/4 [==============================] - 1s 223ms/step - loss: 0.5270 - acc: 0.9800 - val_loss: 0.6920 - val_acc: 0.5186\n",
      "Epoch 4/10\n",
      "4/4 [==============================] - 1s 251ms/step - loss: 0.4715 - acc: 0.9800 - val_loss: 0.6930 - val_acc: 0.5185\n",
      "Epoch 5/10\n",
      "4/4 [==============================] - 1s 257ms/step - loss: 0.4205 - acc: 0.9800 - val_loss: 0.6934 - val_acc: 0.5208\n",
      "Epoch 6/10\n",
      "4/4 [==============================] - 1s 246ms/step - loss: 0.3732 - acc: 0.9800 - val_loss: 0.6964 - val_acc: 0.5193\n",
      "Epoch 7/10\n",
      "4/4 [==============================] - 1s 242ms/step - loss: 0.3294 - acc: 0.9800 - val_loss: 0.6967 - val_acc: 0.5208\n",
      "Epoch 8/10\n",
      "4/4 [==============================] - 1s 266ms/step - loss: 0.2876 - acc: 0.9800 - val_loss: 0.6968 - val_acc: 0.5222\n",
      "Epoch 9/10\n",
      "4/4 [==============================] - 1s 261ms/step - loss: 0.2495 - acc: 0.9800 - val_loss: 0.6996 - val_acc: 0.5241\n",
      "Epoch 10/10\n",
      "4/4 [==============================] - 1s 257ms/step - loss: 0.2176 - acc: 0.9900 - val_loss: 0.7012 - val_acc: 0.5243\n",
      "Epoch 1/10\n",
      "4/4 [==============================] - 1s 279ms/step - loss: 1.5774 - acc: 0.5300 - val_loss: 2.2840 - val_acc: 0.4973\n",
      "Epoch 2/10\n",
      "4/4 [==============================] - 1s 250ms/step - loss: 1.0559 - acc: 0.6500 - val_loss: 1.2500 - val_acc: 0.4973\n",
      "Epoch 3/10\n",
      "4/4 [==============================] - 1s 258ms/step - loss: 0.4781 - acc: 0.7400 - val_loss: 1.3089 - val_acc: 0.5068\n",
      "Epoch 4/10\n",
      "4/4 [==============================] - 1s 264ms/step - loss: 0.2532 - acc: 0.8800 - val_loss: 0.8908 - val_acc: 0.5116\n",
      "Epoch 5/10\n",
      "4/4 [==============================] - 1s 260ms/step - loss: 0.1220 - acc: 0.9900 - val_loss: 1.1539 - val_acc: 0.5074\n",
      "Epoch 6/10\n",
      "4/4 [==============================] - 1s 259ms/step - loss: 0.1442 - acc: 0.9800 - val_loss: 0.7835 - val_acc: 0.5102\n",
      "Epoch 7/10\n",
      "4/4 [==============================] - 1s 262ms/step - loss: 0.0726 - acc: 1.0000 - val_loss: 0.7846 - val_acc: 0.5095\n",
      "Epoch 8/10\n",
      "4/4 [==============================] - 1s 261ms/step - loss: 0.0695 - acc: 1.0000 - val_loss: 0.8674 - val_acc: 0.5141\n",
      "Epoch 9/10\n",
      "4/4 [==============================] - 1s 259ms/step - loss: 0.0504 - acc: 1.0000 - val_loss: 1.1179 - val_acc: 0.5076\n",
      "Epoch 10/10\n",
      "4/4 [==============================] - 1s 261ms/step - loss: 0.0516 - acc: 1.0000 - val_loss: 1.0045 - val_acc: 0.5111\n"
     ]
    },
    {
     "name": "stdout",
     "output_type": "stream",
     "text": [
      "\n",
      "Results for 100 training samples:\n",
      "Embedding Layer:\n",
      "Validation Accuracy: 0.5242999792098999\n",
      "\n",
      "Pretrained Word Embedding:\n",
      "Validation Accuracy: 0.5110999941825867\n",
      "Better Performing Model: Embedding Layer\n",
      "Epoch 1/10\n",
      "4/4 [==============================] - 1s 285ms/step - loss: 0.6981 - acc: 0.4400 - val_loss: 0.6926 - val_acc: 0.5131\n",
      "Epoch 2/10\n",
      "4/4 [==============================] - 1s 271ms/step - loss: 0.5888 - acc: 0.9800 - val_loss: 0.6932 - val_acc: 0.5166\n",
      "Epoch 3/10\n",
      "4/4 [==============================] - 1s 256ms/step - loss: 0.5253 - acc: 0.9800 - val_loss: 0.6936 - val_acc: 0.5160\n",
      "Epoch 4/10\n",
      "4/4 [==============================] - 1s 266ms/step - loss: 0.4699 - acc: 0.9800 - val_loss: 0.6940 - val_acc: 0.5158\n",
      "Epoch 5/10\n",
      "4/4 [==============================] - 1s 279ms/step - loss: 0.4207 - acc: 0.9800 - val_loss: 0.6980 - val_acc: 0.5185\n",
      "Epoch 6/10\n",
      "4/4 [==============================] - 1s 248ms/step - loss: 0.3767 - acc: 0.9800 - val_loss: 0.6982 - val_acc: 0.5194\n",
      "Epoch 7/10\n",
      "4/4 [==============================] - 1s 255ms/step - loss: 0.3304 - acc: 0.9800 - val_loss: 0.6977 - val_acc: 0.5183\n",
      "Epoch 8/10\n",
      "4/4 [==============================] - 1s 284ms/step - loss: 0.2903 - acc: 0.9800 - val_loss: 0.7016 - val_acc: 0.5187\n",
      "Epoch 9/10\n",
      "4/4 [==============================] - 1s 277ms/step - loss: 0.2531 - acc: 0.9800 - val_loss: 0.7015 - val_acc: 0.5170\n",
      "Epoch 10/10\n",
      "4/4 [==============================] - 1s 256ms/step - loss: 0.2200 - acc: 0.9800 - val_loss: 0.7027 - val_acc: 0.5175\n",
      "Epoch 1/10\n",
      "4/4 [==============================] - 1s 308ms/step - loss: 1.9093 - acc: 0.5400 - val_loss: 1.7523 - val_acc: 0.5026\n",
      "Epoch 2/10\n",
      "4/4 [==============================] - 1s 270ms/step - loss: 0.5905 - acc: 0.7400 - val_loss: 1.5903 - val_acc: 0.4973\n",
      "Epoch 3/10\n",
      "4/4 [==============================] - 1s 271ms/step - loss: 0.5913 - acc: 0.7000 - val_loss: 0.8345 - val_acc: 0.5140\n",
      "Epoch 4/10\n",
      "4/4 [==============================] - 1s 257ms/step - loss: 0.1562 - acc: 0.9700 - val_loss: 1.2960 - val_acc: 0.5040\n",
      "Epoch 5/10\n",
      "4/4 [==============================] - 1s 257ms/step - loss: 0.1427 - acc: 0.9700 - val_loss: 0.7523 - val_acc: 0.5155\n",
      "Epoch 6/10\n",
      "4/4 [==============================] - 1s 259ms/step - loss: 0.0863 - acc: 1.0000 - val_loss: 0.8023 - val_acc: 0.5177\n",
      "Epoch 7/10\n",
      "4/4 [==============================] - 1s 245ms/step - loss: 0.0748 - acc: 1.0000 - val_loss: 0.7906 - val_acc: 0.5179\n",
      "Epoch 8/10\n",
      "4/4 [==============================] - 1s 258ms/step - loss: 0.0563 - acc: 1.0000 - val_loss: 0.7580 - val_acc: 0.5082\n",
      "Epoch 9/10\n",
      "4/4 [==============================] - 1s 260ms/step - loss: 0.0559 - acc: 1.0000 - val_loss: 0.7664 - val_acc: 0.5185\n",
      "Epoch 10/10\n",
      "4/4 [==============================] - 1s 257ms/step - loss: 0.0372 - acc: 1.0000 - val_loss: 0.8936 - val_acc: 0.5186\n",
      "\n",
      "Results for 200 training samples:\n",
      "Embedding Layer:\n",
      "Validation Accuracy: 0.5174999833106995\n",
      "\n",
      "Pretrained Word Embedding:\n",
      "Validation Accuracy: 0.5185999870300293\n",
      "Better Performing Model: Pretrained Word Embedding\n",
      "Epoch 1/10\n",
      "4/4 [==============================] - 1s 307ms/step - loss: 0.6945 - acc: 0.4900 - val_loss: 0.6925 - val_acc: 0.5174\n",
      "Epoch 2/10\n",
      "4/4 [==============================] - 1s 297ms/step - loss: 0.5870 - acc: 0.9800 - val_loss: 0.6939 - val_acc: 0.5195\n",
      "Epoch 3/10\n",
      "4/4 [==============================] - 1s 304ms/step - loss: 0.5236 - acc: 0.9600 - val_loss: 0.6926 - val_acc: 0.5207\n",
      "Epoch 4/10\n",
      "4/4 [==============================] - 1s 307ms/step - loss: 0.4703 - acc: 0.9900 - val_loss: 0.6936 - val_acc: 0.5225\n",
      "Epoch 5/10\n",
      "4/4 [==============================] - 1s 280ms/step - loss: 0.4208 - acc: 0.9800 - val_loss: 0.6939 - val_acc: 0.5176\n",
      "Epoch 6/10\n",
      "4/4 [==============================] - 1s 280ms/step - loss: 0.3716 - acc: 1.0000 - val_loss: 0.6960 - val_acc: 0.5193\n",
      "Epoch 7/10\n",
      "4/4 [==============================] - 1s 281ms/step - loss: 0.3281 - acc: 0.9800 - val_loss: 0.6965 - val_acc: 0.5183\n",
      "Epoch 8/10\n",
      "4/4 [==============================] - 1s 287ms/step - loss: 0.2862 - acc: 1.0000 - val_loss: 0.6986 - val_acc: 0.5208\n",
      "Epoch 9/10\n",
      "4/4 [==============================] - 1s 279ms/step - loss: 0.2494 - acc: 0.9900 - val_loss: 0.6986 - val_acc: 0.5217\n",
      "Epoch 10/10\n",
      "4/4 [==============================] - 1s 276ms/step - loss: 0.2151 - acc: 1.0000 - val_loss: 0.7007 - val_acc: 0.5195\n",
      "Epoch 1/10\n",
      "4/4 [==============================] - 2s 319ms/step - loss: 1.7176 - acc: 0.4200 - val_loss: 1.5165 - val_acc: 0.4973\n",
      "Epoch 2/10\n",
      "4/4 [==============================] - 1s 272ms/step - loss: 0.9572 - acc: 0.5500 - val_loss: 1.3746 - val_acc: 0.4973\n",
      "Epoch 3/10\n",
      "4/4 [==============================] - 1s 241ms/step - loss: 0.4269 - acc: 0.7500 - val_loss: 0.7510 - val_acc: 0.5093\n",
      "Epoch 4/10\n",
      "4/4 [==============================] - 1s 265ms/step - loss: 0.1632 - acc: 0.9900 - val_loss: 0.7578 - val_acc: 0.5117\n",
      "Epoch 5/10\n",
      "4/4 [==============================] - 1s 267ms/step - loss: 0.1286 - acc: 0.9900 - val_loss: 0.7579 - val_acc: 0.5108\n",
      "Epoch 6/10\n",
      "4/4 [==============================] - 1s 249ms/step - loss: 0.1086 - acc: 0.9900 - val_loss: 0.7589 - val_acc: 0.5118\n",
      "Epoch 7/10\n",
      "4/4 [==============================] - 1s 244ms/step - loss: 0.0860 - acc: 1.0000 - val_loss: 0.7759 - val_acc: 0.5034\n",
      "Epoch 8/10\n",
      "4/4 [==============================] - 1s 273ms/step - loss: 0.0796 - acc: 1.0000 - val_loss: 1.0864 - val_acc: 0.5086\n",
      "Epoch 9/10\n",
      "4/4 [==============================] - 1s 269ms/step - loss: 0.0817 - acc: 1.0000 - val_loss: 0.9607 - val_acc: 0.5122\n",
      "Epoch 10/10\n",
      "4/4 [==============================] - 1s 253ms/step - loss: 0.0420 - acc: 1.0000 - val_loss: 0.7714 - val_acc: 0.5110\n",
      "\n",
      "Results for 500 training samples:\n",
      "Embedding Layer:\n",
      "Validation Accuracy: 0.5195000171661377\n",
      "\n",
      "Pretrained Word Embedding:\n",
      "Validation Accuracy: 0.5109999775886536\n",
      "Better Performing Model: Embedding Layer\n"
     ]
    }
   ],
   "source": [
    "# Loop through different training sample sizes\n",
    "for training_samples in training_samples_range:\n",
    "    # Take a subset of training and validation data\n",
    "    x_train_subset = x_train[:training_samples]\n",
    "    y_train_subset = y_train[:training_samples]\n",
    "\n",
    "    x_val_subset = x_val[:validation_samples]\n",
    "    y_val_subset = y_val[:validation_samples]\n",
    "\n",
    "    # Define the model with an Embedding Layer\n",
    "    model_embedding = Sequential()\n",
    "    model_embedding.add(Embedding(max_words, embedding_dim, input_length=maxlen))\n",
    "    model_embedding.add(Flatten())\n",
    "    model_embedding.add(Dense(1, activation='sigmoid'))\n",
    "    model_embedding.compile(optimizer='rmsprop', loss='binary_crossentropy', metrics=['acc'])\n",
    "    history_embedding = model_embedding.fit(x_train_subset, y_train_subset, epochs=10, batch_size=32, validation_data=(x_val_subset, y_val_subset))\n",
    "\n",
    "    # Create the embedding matrix\n",
    "    embedding_matrix = np.zeros((max_words, embedding_dim))\n",
    "    for word, i in word_index.items():\n",
    "        if i < max_words:\n",
    "            embedding_vector = embeddings_index.get(word)\n",
    "            if embedding_vector is not None:\n",
    "                embedding_matrix[i] = embedding_vector\n",
    "\n",
    "    # Define the model with a Pretrained Word Embedding\n",
    "    model_pretrained = Sequential()\n",
    "    model_pretrained.add(Embedding(max_words, embedding_dim, input_length=maxlen, weights=[embedding_matrix], trainable=False))\n",
    "    model_pretrained.add(Flatten())\n",
    "    model_pretrained.add(Dense(1, activation='sigmoid'))\n",
    "    model_pretrained.compile(optimizer='rmsprop', loss='binary_crossentropy', metrics=['acc'])\n",
    "    history_pretrained = model_pretrained.fit(x_train_subset, y_train_subset, epochs=10, batch_size=32, validation_data=(x_val_subset, y_val_subset))\n",
    "\n",
    "    # Print results for each training sample size\n",
    "    print(f\"\\nResults for {training_samples} training samples:\")\n",
    "    print(\"Embedding Layer:\")\n",
    "    print(\"Validation Accuracy:\", history_embedding.history['val_acc'][-1])\n",
    "\n",
    "    print(\"\\nPretrained Word Embedding:\")\n",
    "    print(\"Validation Accuracy:\", history_pretrained.history['val_acc'][-1])\n",
    "\n",
    "    # Compare validation accuracy and print the better-performing model\n",
    "    if history_embedding.history['val_acc'][-1] > history_pretrained.history['val_acc'][-1]:\n",
    "        print(\"Better Performing Model: Embedding Layer\")\n",
    "    else:\n",
    "        print(\"Better Performing Model: Pretrained Word Embedding\")"
   ]
  },
  {
   "cell_type": "code",
   "execution_count": 17,
   "id": "7ccbc0ee",
   "metadata": {},
   "outputs": [
    {
     "name": "stdout",
     "output_type": "stream",
     "text": [
      "\n",
      "Final Better Performing Model: Embedding Layer\n"
     ]
    }
   ],
   "source": [
    "# If you want to compare the final models after the loop, you can do so outside the loop\n",
    "if history_embedding.history['val_acc'][-1] > history_pretrained.history['val_acc'][-1]:\n",
    "    print(\"\\nFinal Better Performing Model: Embedding Layer\")\n",
    "    final_better_model = model_embedding\n",
    "else:\n",
    "    print(\"\\nFinal Better Performing Model: Pretrained Word Embedding\")\n",
    "    final_better_model = model_pretrained"
   ]
  },
  {
   "cell_type": "code",
   "execution_count": 19,
   "id": "ae414cdb",
   "metadata": {},
   "outputs": [
    {
     "data": {
      "image/png": "[encoded data removed]",
      "text/plain": [
       "<Figure size 640x480 with 1 Axes>"
      ]
     },
     "metadata": {},
     "output_type": "display_data"
    }
   ],
   "source": [
    "import matplotlib.pyplot as plt\n",
    "\n",
    "# Results for 10 training samples\n",
    "acc_embedding_10 = 0.498199999332428\n",
    "acc_pretrained_10 = 0.5048999786376953\n",
    "\n",
    "# Results for 50 training samples\n",
    "acc_embedding_50 = 0.5073999762535095\n",
    "acc_pretrained_50 = 0.5015000104904175\n",
    "\n",
    "# Results for 100 training samples\n",
    "acc_embedding_100 = 0.5242999792098999\n",
    "acc_pretrained_100 = 0.5110999941825867\n",
    "\n",
    "# Results for 200 training samples\n",
    "acc_embedding_200 = 0.5174999833106995\n",
    "acc_pretrained_200 = 0.5185999870300293\n",
    "\n",
    "# Results for 500 training samples\n",
    "acc_embedding_500 = 0.5195000171661377\n",
    "acc_pretrained_500 = 0.5109999775886536\n",
    "\n",
    "# Plotting\n",
    "training_samples = [10, 50, 100, 200, 500]\n",
    "\n",
    "plt.plot(training_samples, [acc_embedding_10, acc_embedding_50, acc_embedding_100, acc_embedding_200, acc_embedding_500], marker='o', label='Embedding Layer')\n",
    "plt.plot(training_samples, [acc_pretrained_10, acc_pretrained_50, acc_pretrained_100, acc_pretrained_200, acc_pretrained_500], marker='o', label='Pretrained Word Embedding')\n",
    "\n",
    "plt.title('Validation Accuracy vs Training Samples')\n",
    "plt.xlabel('Training Samples')\n",
    "plt.ylabel('Validation Accuracy')\n",
    "plt.legend()\n",
    "plt.show()\n"
   ]
  },
  {
   "cell_type": "markdown",
   "id": "4dc5fff0",
   "metadata": {},
   "source": [
    "## The performance comparison between the Embedding Layer and Pretrained Word Embedding models depends on the specific characteristics of your data and task. However, based on the validation accuracy results provided:\n",
    "\n",
    "For 10 training samples:\n",
    "Embedding Layer: 0.4982\n",
    "Pretrained Word Embedding: 0.5049\n",
    "Better Performing Model: Pretrained Word Embedding\n",
    "For 50 training samples:\n",
    "\n",
    "Embedding Layer: 0.5074\n",
    "Pretrained Word Embedding: 0.5015\n",
    "Better Performing Model: Embedding Layer\n",
    "For 100 training samples:\n",
    "\n",
    "Embedding Layer: 0.5243\n",
    "Pretrained Word Embedding: 0.5111\n",
    "Better Performing Model: Embedding Layer\n",
    "For 200 training samples:\n",
    "\n",
    "Embedding Layer: 0.5175\n",
    "Pretrained Word Embedding: 0.5186\n",
    "Better Performing Model: Pretrained Word Embedding\n",
    "For 500 training samples:\n",
    "\n",
    "Embedding Layer: 0.5195\n",
    "Pretrained Word Embedding: 0.5110\n",
    "Better Performing Model: Embedding Layer\n",
    "\n",
    "## In this specific scenario, the better performing model varies with different sample sizes. However, overall, the results indicate that the Embedding Layer tends to perform better for larger sample sizes, while the Pretrained Word Embedding may be advantageous for smaller sample sizes. The choice depends on factors like the complexity of the task, the amount of available training data, and the quality of the pretrained word embeddings."
   ]
  },
  {
   "cell_type": "markdown",
   "id": "f313e25c",
   "metadata": {},
   "source": [
    "### Therefore,\n",
    "\n",
    "The Embedding Layer often outperforms pretrained word embeddings due to several factors:\n",
    "\n",
    "Task-Specific Learning:\n",
    "\n",
    "The Embedding Layer adapts to task-specific patterns during training, tailoring representations to the dataset.\n",
    "Data Adaptation:\n",
    "\n",
    "It is effective for smaller or unique datasets, allowing the model to adapt to specific data characteristics.\n",
    "Fine-Tuning:\n",
    "\n",
    "Enables fine-tuning of word representations, adjusting embeddings based on the dataset's specific context.\n",
    "Task Complexity:\n",
    "\n",
    "Suitable for simpler tasks or those with domain-specific requirements, capturing task-specific nuances effectively.\n",
    "Word Importance:\n",
    "\n",
    "Dynamically adjusts word representations, assigning varying importance to words based on task relevance.\n",
    "Parameter Tuning:\n",
    "\n",
    "Offers flexibility in optimizing embedding parameters, crucial for limited data and specific task demands.\n",
    "The choice between Embedding Layer and pretrained embeddings depends on task nature, dataset size, and model requirements. Experimentation is key for evaluating performance on the specific task."
   ]
  },
  {
   "cell_type": "code",
   "execution_count": null,
   "id": "1dcfd208",
   "metadata": {},
   "outputs": [],
   "source": []
  },
  {
   "cell_type": "code",
   "execution_count": null,
   "id": "17e89295",
   "metadata": {},
   "outputs": [],
   "source": []
  },
  {
   "cell_type": "code",
   "execution_count": null,
   "id": "73648d9a",
   "metadata": {},
   "outputs": [],
   "source": []
  },
  {
   "cell_type": "code",
   "execution_count": null,
   "id": "4705fa99",
   "metadata": {},
   "outputs": [],
   "source": []
  },
  {
   "cell_type": "code",
   "execution_count": null,
   "id": "d940ba3b",
   "metadata": {},
   "outputs": [],
   "source": []
  },
  {
   "cell_type": "code",
   "execution_count": null,
   "id": "b7c7820e",
   "metadata": {},
   "outputs": [],
   "source": []
  }
 ],
 "metadata": {
  "kernelspec": {
   "display_name": "Python 3 (ipykernel)",
   "language": "python",
   "name": "python3"
  },
  "language_info": {
   "codemirror_mode": {
    "name": "ipython",
    "version": 3
   },
   "file_extension": ".py",
   "mimetype": "text/x-python",
   "name": "python",
   "nbconvert_exporter": "python",
   "pygments_lexer": "ipython3",
   "version": "3.10.9"
  }
 },
 "nbformat": 4,
 "nbformat_minor": 5
}
